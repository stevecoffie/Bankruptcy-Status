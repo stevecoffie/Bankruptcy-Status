{
 "cells": [
  {
   "cell_type": "markdown",
   "metadata": {},
   "source": [
    "# Bankruptcy Status Prediction"
   ]
  },
  {
   "cell_type": "markdown",
   "metadata": {},
   "source": [
    "## Objective\n",
    "Building a model to predict the bank bankruptcy status of a company given a selected 15 financial ratios."
   ]
  },
  {
   "cell_type": "markdown",
   "metadata": {},
   "source": [
    "## Content\n",
    "\n",
    "1. Importing Libraries.\n",
    "2. Exploration of Data.\n",
    "3. Modelling of Data.\n",
    "4. Comparing Model Performance\n",
    "5. Conclusion"
   ]
  },
  {
   "cell_type": "markdown",
   "metadata": {},
   "source": [
    "### About the dataset\n",
    "\n",
    "The dataset used is the bankruptcy status, <code>(Bankrupt)</code>, of some companies collected over a period of 10 years. It contains 1321 observations with 15 financial ratios for each company. Some of the companies went bankrupt during the period (indicated by “1”), while the others survived (indicated by a “0”). All predictors are continuous and are describes below:\n",
    "\n",
    "<code>fyear</code>: Fiscal year<br />\n",
    "<code>at</code>: Assets-Total <br />\n",
    "<code>Bkvlps</code>: Book value per share <br />\n",
    "<code>invt:</code>: Inventories-Total<br />\n",
    "<code>Lt:</code>: Liabilities-Total<br />\n",
    "<code>rectr</code>: Receivables-Trade<br />\n",
    "<code>cogs</code>: Costs of goods sold<br />\n",
    "<code>dvt</code>: Dividends-Total<br />\n",
    "<code>ebit</code>: Ernings before interest and taxes<br />\n",
    "<code>gp</code>: Gross profit<br />\n",
    "<code>ni</code>: Net income (Loss)<br />\n",
    "<code>oiadp</code>: Operating income after depreciation <br />\n",
    "<code>dvpsx_f</code>: Dividends per Share-Ex-Date-Fiscal <br />\n",
    "<code>revt</code>: Revenue-Total<br />\n",
    "<code>mkvalt</code>: Market value-Total-Fiscal<br />\n",
    "<code>prch_f</code>: Price high-Annual-Fiscal<br />\n",
    "<code>Bankrupt</code>: Bankruptcy (Response variable)<br />\n"
   ]
  },
  {
   "cell_type": "markdown",
   "metadata": {},
   "source": [
    "## 1. Importing Libraries"
   ]
  },
  {
   "cell_type": "code",
   "execution_count": 1,
   "metadata": {},
   "outputs": [],
   "source": [
    "import numpy as np\n",
    "import pandas as pd\n",
    "import matplotlib.pyplot as plt\n",
    "import seaborn as sns\n",
    "from sklearn.preprocessing import LabelEncoder # for creating dummy variables\n",
    "from sklearn.preprocessing import MinMaxScaler # for normalising data"
   ]
  },
  {
   "cell_type": "markdown",
   "metadata": {},
   "source": [
    "## 2.1 Importing Data"
   ]
  },
  {
   "cell_type": "code",
   "execution_count": 56,
   "metadata": {
    "scrolled": false
   },
   "outputs": [
    {
     "data": {
      "text/html": [
       "<div>\n",
       "<style scoped>\n",
       "    .dataframe tbody tr th:only-of-type {\n",
       "        vertical-align: middle;\n",
       "    }\n",
       "\n",
       "    .dataframe tbody tr th {\n",
       "        vertical-align: top;\n",
       "    }\n",
       "\n",
       "    .dataframe thead th {\n",
       "        text-align: right;\n",
       "    }\n",
       "</style>\n",
       "<table border=\"1\" class=\"dataframe\">\n",
       "  <thead>\n",
       "    <tr style=\"text-align: right;\">\n",
       "      <th></th>\n",
       "      <th>fyear</th>\n",
       "      <th>at</th>\n",
       "      <th>bkvlps</th>\n",
       "      <th>invt</th>\n",
       "      <th>Lt</th>\n",
       "      <th>rectr</th>\n",
       "      <th>cogs</th>\n",
       "      <th>dvt</th>\n",
       "      <th>ebit</th>\n",
       "      <th>gp</th>\n",
       "      <th>ni</th>\n",
       "      <th>oiadp</th>\n",
       "      <th>revt</th>\n",
       "      <th>dvpsx_f</th>\n",
       "      <th>mkvalt</th>\n",
       "      <th>prch_f</th>\n",
       "      <th>Bankrupt</th>\n",
       "    </tr>\n",
       "  </thead>\n",
       "  <tbody>\n",
       "    <tr>\n",
       "      <td>0</td>\n",
       "      <td>2001</td>\n",
       "      <td>9.252</td>\n",
       "      <td>1.9283</td>\n",
       "      <td>0.000</td>\n",
       "      <td>0.731</td>\n",
       "      <td>0.079</td>\n",
       "      <td>0.750</td>\n",
       "      <td>0.0</td>\n",
       "      <td>-0.379</td>\n",
       "      <td>0.442</td>\n",
       "      <td>-0.288</td>\n",
       "      <td>-0.379</td>\n",
       "      <td>1.192</td>\n",
       "      <td>0.0</td>\n",
       "      <td>10.3847</td>\n",
       "      <td>2.635</td>\n",
       "      <td>no</td>\n",
       "    </tr>\n",
       "    <tr>\n",
       "      <td>1</td>\n",
       "      <td>2001</td>\n",
       "      <td>20.315</td>\n",
       "      <td>0.3903</td>\n",
       "      <td>0.066</td>\n",
       "      <td>5.240</td>\n",
       "      <td>0.106</td>\n",
       "      <td>1.407</td>\n",
       "      <td>0.0</td>\n",
       "      <td>-4.481</td>\n",
       "      <td>-0.028</td>\n",
       "      <td>-4.585</td>\n",
       "      <td>-4.481</td>\n",
       "      <td>1.379</td>\n",
       "      <td>0.0</td>\n",
       "      <td>22.2900</td>\n",
       "      <td>2.140</td>\n",
       "      <td>no</td>\n",
       "    </tr>\n",
       "    <tr>\n",
       "      <td>2</td>\n",
       "      <td>2001</td>\n",
       "      <td>5.182</td>\n",
       "      <td>3.6446</td>\n",
       "      <td>1.558</td>\n",
       "      <td>1.501</td>\n",
       "      <td>0.193</td>\n",
       "      <td>7.638</td>\n",
       "      <td>0.0</td>\n",
       "      <td>-0.788</td>\n",
       "      <td>2.843</td>\n",
       "      <td>0.262</td>\n",
       "      <td>-0.788</td>\n",
       "      <td>10.481</td>\n",
       "      <td>0.0</td>\n",
       "      <td>3.7370</td>\n",
       "      <td>4.400</td>\n",
       "      <td>no</td>\n",
       "    </tr>\n",
       "    <tr>\n",
       "      <td>3</td>\n",
       "      <td>2001</td>\n",
       "      <td>1.038</td>\n",
       "      <td>0.0083</td>\n",
       "      <td>0.289</td>\n",
       "      <td>0.903</td>\n",
       "      <td>0.218</td>\n",
       "      <td>0.756</td>\n",
       "      <td>0.0</td>\n",
       "      <td>-1.361</td>\n",
       "      <td>0.632</td>\n",
       "      <td>-1.365</td>\n",
       "      <td>-1.361</td>\n",
       "      <td>1.388</td>\n",
       "      <td>0.0</td>\n",
       "      <td>18.9306</td>\n",
       "      <td>1.750</td>\n",
       "      <td>no</td>\n",
       "    </tr>\n",
       "    <tr>\n",
       "      <td>4</td>\n",
       "      <td>2001</td>\n",
       "      <td>10.301</td>\n",
       "      <td>0.2367</td>\n",
       "      <td>1.626</td>\n",
       "      <td>6.099</td>\n",
       "      <td>1.150</td>\n",
       "      <td>8.108</td>\n",
       "      <td>0.0</td>\n",
       "      <td>0.651</td>\n",
       "      <td>3.008</td>\n",
       "      <td>-0.175</td>\n",
       "      <td>0.651</td>\n",
       "      <td>11.116</td>\n",
       "      <td>0.0</td>\n",
       "      <td>1.3313</td>\n",
       "      <td>0.120</td>\n",
       "      <td>no</td>\n",
       "    </tr>\n",
       "  </tbody>\n",
       "</table>\n",
       "</div>"
      ],
      "text/plain": [
       "   fyear      at  bkvlps   invt     Lt  rectr   cogs  dvt   ebit     gp  \\\n",
       "0   2001   9.252  1.9283  0.000  0.731  0.079  0.750  0.0 -0.379  0.442   \n",
       "1   2001  20.315  0.3903  0.066  5.240  0.106  1.407  0.0 -4.481 -0.028   \n",
       "2   2001   5.182  3.6446  1.558  1.501  0.193  7.638  0.0 -0.788  2.843   \n",
       "3   2001   1.038  0.0083  0.289  0.903  0.218  0.756  0.0 -1.361  0.632   \n",
       "4   2001  10.301  0.2367  1.626  6.099  1.150  8.108  0.0  0.651  3.008   \n",
       "\n",
       "      ni  oiadp    revt  dvpsx_f   mkvalt  prch_f Bankrupt  \n",
       "0 -0.288 -0.379   1.192      0.0  10.3847   2.635       no  \n",
       "1 -4.585 -4.481   1.379      0.0  22.2900   2.140       no  \n",
       "2  0.262 -0.788  10.481      0.0   3.7370   4.400       no  \n",
       "3 -1.365 -1.361   1.388      0.0  18.9306   1.750       no  \n",
       "4 -0.175  0.651  11.116      0.0   1.3313   0.120       no  "
      ]
     },
     "execution_count": 56,
     "metadata": {},
     "output_type": "execute_result"
    }
   ],
   "source": [
    "# Reading csv file into dataframe\n",
    "df = pd.read_csv(\"bankrupt.csv\")\n",
    "df.head()"
   ]
  },
  {
   "cell_type": "code",
   "execution_count": 57,
   "metadata": {},
   "outputs": [
    {
     "data": {
      "text/plain": [
       "fyear         int64\n",
       "at          float64\n",
       "bkvlps      float64\n",
       "invt        float64\n",
       "Lt          float64\n",
       "rectr       float64\n",
       "cogs        float64\n",
       "dvt         float64\n",
       "ebit        float64\n",
       "gp          float64\n",
       "ni          float64\n",
       "oiadp       float64\n",
       "revt        float64\n",
       "dvpsx_f     float64\n",
       "mkvalt      float64\n",
       "prch_f      float64\n",
       "Bankrupt     object\n",
       "dtype: object"
      ]
     },
     "execution_count": 57,
     "metadata": {},
     "output_type": "execute_result"
    }
   ],
   "source": [
    "df.dtypes"
   ]
  },
  {
   "cell_type": "code",
   "execution_count": 58,
   "metadata": {},
   "outputs": [
    {
     "data": {
      "text/html": [
       "<div>\n",
       "<style scoped>\n",
       "    .dataframe tbody tr th:only-of-type {\n",
       "        vertical-align: middle;\n",
       "    }\n",
       "\n",
       "    .dataframe tbody tr th {\n",
       "        vertical-align: top;\n",
       "    }\n",
       "\n",
       "    .dataframe thead th {\n",
       "        text-align: right;\n",
       "    }\n",
       "</style>\n",
       "<table border=\"1\" class=\"dataframe\">\n",
       "  <thead>\n",
       "    <tr style=\"text-align: right;\">\n",
       "      <th></th>\n",
       "      <th>fyear</th>\n",
       "      <th>at</th>\n",
       "      <th>bkvlps</th>\n",
       "      <th>invt</th>\n",
       "      <th>Lt</th>\n",
       "      <th>rectr</th>\n",
       "      <th>cogs</th>\n",
       "      <th>dvt</th>\n",
       "      <th>ebit</th>\n",
       "      <th>gp</th>\n",
       "      <th>ni</th>\n",
       "      <th>oiadp</th>\n",
       "      <th>revt</th>\n",
       "      <th>dvpsx_f</th>\n",
       "      <th>mkvalt</th>\n",
       "      <th>prch_f</th>\n",
       "    </tr>\n",
       "  </thead>\n",
       "  <tbody>\n",
       "    <tr>\n",
       "      <td>count</td>\n",
       "      <td>1321.000000</td>\n",
       "      <td>1.321000e+03</td>\n",
       "      <td>1321.000000</td>\n",
       "      <td>1321.000000</td>\n",
       "      <td>1.321000e+03</td>\n",
       "      <td>1321.000000</td>\n",
       "      <td>1321.000000</td>\n",
       "      <td>1321.000000</td>\n",
       "      <td>1321.000000</td>\n",
       "      <td>1321.000000</td>\n",
       "      <td>1321.000000</td>\n",
       "      <td>1321.000000</td>\n",
       "      <td>1321.000000</td>\n",
       "      <td>1321.000000</td>\n",
       "      <td>1.321000e+03</td>\n",
       "      <td>1321.000000</td>\n",
       "    </tr>\n",
       "    <tr>\n",
       "      <td>mean</td>\n",
       "      <td>2005.320212</td>\n",
       "      <td>9.511867e+03</td>\n",
       "      <td>4.543269</td>\n",
       "      <td>1908.493267</td>\n",
       "      <td>8.877328e+03</td>\n",
       "      <td>3140.169148</td>\n",
       "      <td>1251.550788</td>\n",
       "      <td>39.682273</td>\n",
       "      <td>232.908369</td>\n",
       "      <td>491.334412</td>\n",
       "      <td>-18.965758</td>\n",
       "      <td>232.908369</td>\n",
       "      <td>1742.885200</td>\n",
       "      <td>0.335449</td>\n",
       "      <td>5.774355e+03</td>\n",
       "      <td>16.149576</td>\n",
       "    </tr>\n",
       "    <tr>\n",
       "      <td>std</td>\n",
       "      <td>2.340608</td>\n",
       "      <td>1.120989e+05</td>\n",
       "      <td>22.073326</td>\n",
       "      <td>23675.885178</td>\n",
       "      <td>1.048727e+05</td>\n",
       "      <td>47499.012821</td>\n",
       "      <td>6013.594833</td>\n",
       "      <td>505.289521</td>\n",
       "      <td>2910.195059</td>\n",
       "      <td>3072.448546</td>\n",
       "      <td>1480.648303</td>\n",
       "      <td>2910.195059</td>\n",
       "      <td>8162.959277</td>\n",
       "      <td>3.912116</td>\n",
       "      <td>1.606149e+05</td>\n",
       "      <td>21.804876</td>\n",
       "    </tr>\n",
       "    <tr>\n",
       "      <td>min</td>\n",
       "      <td>2001.000000</td>\n",
       "      <td>0.000000e+00</td>\n",
       "      <td>-602.908200</td>\n",
       "      <td>0.000000</td>\n",
       "      <td>0.000000e+00</td>\n",
       "      <td>0.000000</td>\n",
       "      <td>-188.341000</td>\n",
       "      <td>-0.064000</td>\n",
       "      <td>-7655.000000</td>\n",
       "      <td>-5257.845000</td>\n",
       "      <td>-27684.000000</td>\n",
       "      <td>-7655.000000</td>\n",
       "      <td>-4234.472000</td>\n",
       "      <td>0.000000</td>\n",
       "      <td>1.000000e-04</td>\n",
       "      <td>0.005000</td>\n",
       "    </tr>\n",
       "    <tr>\n",
       "      <td>25%</td>\n",
       "      <td>2003.000000</td>\n",
       "      <td>1.102600e+01</td>\n",
       "      <td>0.001600</td>\n",
       "      <td>0.000000</td>\n",
       "      <td>4.869000e+00</td>\n",
       "      <td>0.301000</td>\n",
       "      <td>4.377000</td>\n",
       "      <td>0.000000</td>\n",
       "      <td>-1.774000</td>\n",
       "      <td>2.876000</td>\n",
       "      <td>-12.986000</td>\n",
       "      <td>-1.774000</td>\n",
       "      <td>10.378000</td>\n",
       "      <td>0.000000</td>\n",
       "      <td>9.444900e+00</td>\n",
       "      <td>2.050000</td>\n",
       "    </tr>\n",
       "    <tr>\n",
       "      <td>50%</td>\n",
       "      <td>2005.000000</td>\n",
       "      <td>2.368390e+02</td>\n",
       "      <td>2.646500</td>\n",
       "      <td>4.022000</td>\n",
       "      <td>1.212490e+02</td>\n",
       "      <td>9.483000</td>\n",
       "      <td>89.951000</td>\n",
       "      <td>0.000000</td>\n",
       "      <td>1.524000</td>\n",
       "      <td>34.181000</td>\n",
       "      <td>-0.216000</td>\n",
       "      <td>1.524000</td>\n",
       "      <td>160.478000</td>\n",
       "      <td>0.000000</td>\n",
       "      <td>6.589980e+01</td>\n",
       "      <td>8.850000</td>\n",
       "    </tr>\n",
       "    <tr>\n",
       "      <td>75%</td>\n",
       "      <td>2007.000000</td>\n",
       "      <td>8.664170e+02</td>\n",
       "      <td>9.351700</td>\n",
       "      <td>61.504000</td>\n",
       "      <td>7.096470e+02</td>\n",
       "      <td>79.729000</td>\n",
       "      <td>676.373000</td>\n",
       "      <td>0.854000</td>\n",
       "      <td>36.036000</td>\n",
       "      <td>210.542000</td>\n",
       "      <td>8.236000</td>\n",
       "      <td>36.036000</td>\n",
       "      <td>877.427000</td>\n",
       "      <td>0.000000</td>\n",
       "      <td>3.709207e+02</td>\n",
       "      <td>22.770000</td>\n",
       "    </tr>\n",
       "    <tr>\n",
       "      <td>max</td>\n",
       "      <td>2010.000000</td>\n",
       "      <td>2.187631e+06</td>\n",
       "      <td>273.671800</td>\n",
       "      <td>462103.000000</td>\n",
       "      <td>2.074033e+06</td>\n",
       "      <td>994847.000000</td>\n",
       "      <td>109794.000000</td>\n",
       "      <td>10769.000000</td>\n",
       "      <td>65332.000000</td>\n",
       "      <td>67835.000000</td>\n",
       "      <td>24728.000000</td>\n",
       "      <td>65332.000000</td>\n",
       "      <td>157333.000000</td>\n",
       "      <td>135.230000</td>\n",
       "      <td>5.820729e+06</td>\n",
       "      <td>221.000000</td>\n",
       "    </tr>\n",
       "  </tbody>\n",
       "</table>\n",
       "</div>"
      ],
      "text/plain": [
       "             fyear            at       bkvlps           invt            Lt  \\\n",
       "count  1321.000000  1.321000e+03  1321.000000    1321.000000  1.321000e+03   \n",
       "mean   2005.320212  9.511867e+03     4.543269    1908.493267  8.877328e+03   \n",
       "std       2.340608  1.120989e+05    22.073326   23675.885178  1.048727e+05   \n",
       "min    2001.000000  0.000000e+00  -602.908200       0.000000  0.000000e+00   \n",
       "25%    2003.000000  1.102600e+01     0.001600       0.000000  4.869000e+00   \n",
       "50%    2005.000000  2.368390e+02     2.646500       4.022000  1.212490e+02   \n",
       "75%    2007.000000  8.664170e+02     9.351700      61.504000  7.096470e+02   \n",
       "max    2010.000000  2.187631e+06   273.671800  462103.000000  2.074033e+06   \n",
       "\n",
       "               rectr           cogs           dvt          ebit            gp  \\\n",
       "count    1321.000000    1321.000000   1321.000000   1321.000000   1321.000000   \n",
       "mean     3140.169148    1251.550788     39.682273    232.908369    491.334412   \n",
       "std     47499.012821    6013.594833    505.289521   2910.195059   3072.448546   \n",
       "min         0.000000    -188.341000     -0.064000  -7655.000000  -5257.845000   \n",
       "25%         0.301000       4.377000      0.000000     -1.774000      2.876000   \n",
       "50%         9.483000      89.951000      0.000000      1.524000     34.181000   \n",
       "75%        79.729000     676.373000      0.854000     36.036000    210.542000   \n",
       "max    994847.000000  109794.000000  10769.000000  65332.000000  67835.000000   \n",
       "\n",
       "                 ni         oiadp           revt      dvpsx_f        mkvalt  \\\n",
       "count   1321.000000   1321.000000    1321.000000  1321.000000  1.321000e+03   \n",
       "mean     -18.965758    232.908369    1742.885200     0.335449  5.774355e+03   \n",
       "std     1480.648303   2910.195059    8162.959277     3.912116  1.606149e+05   \n",
       "min   -27684.000000  -7655.000000   -4234.472000     0.000000  1.000000e-04   \n",
       "25%      -12.986000     -1.774000      10.378000     0.000000  9.444900e+00   \n",
       "50%       -0.216000      1.524000     160.478000     0.000000  6.589980e+01   \n",
       "75%        8.236000     36.036000     877.427000     0.000000  3.709207e+02   \n",
       "max    24728.000000  65332.000000  157333.000000   135.230000  5.820729e+06   \n",
       "\n",
       "            prch_f  \n",
       "count  1321.000000  \n",
       "mean     16.149576  \n",
       "std      21.804876  \n",
       "min       0.005000  \n",
       "25%       2.050000  \n",
       "50%       8.850000  \n",
       "75%      22.770000  \n",
       "max     221.000000  "
      ]
     },
     "execution_count": 58,
     "metadata": {},
     "output_type": "execute_result"
    }
   ],
   "source": [
    "df.describe()"
   ]
  },
  {
   "cell_type": "code",
   "execution_count": 59,
   "metadata": {},
   "outputs": [
    {
     "data": {
      "text/plain": [
       "fyear       0\n",
       "at          0\n",
       "bkvlps      0\n",
       "invt        0\n",
       "Lt          0\n",
       "rectr       0\n",
       "cogs        0\n",
       "dvt         0\n",
       "ebit        0\n",
       "gp          0\n",
       "ni          0\n",
       "oiadp       0\n",
       "revt        0\n",
       "dvpsx_f     0\n",
       "mkvalt      0\n",
       "prch_f      0\n",
       "Bankrupt    0\n",
       "dtype: int64"
      ]
     },
     "execution_count": 59,
     "metadata": {},
     "output_type": "execute_result"
    }
   ],
   "source": [
    "# Total missing values for each feature\n",
    "df.isnull().sum()"
   ]
  },
  {
   "cell_type": "markdown",
   "metadata": {},
   "source": [
    "### 2.2 Data Visualization"
   ]
  },
  {
   "cell_type": "code",
   "execution_count": 60,
   "metadata": {},
   "outputs": [
    {
     "data": {
      "text/plain": [
       "<matplotlib.axes._subplots.AxesSubplot at 0x18068173fc8>"
      ]
     },
     "execution_count": 60,
     "metadata": {},
     "output_type": "execute_result"
    },
    {
     "data": {
      "image/png": "[encoded data removed]",
      "text/plain": [
       "<Figure size 360x360 with 1 Axes>"
      ]
     },
     "metadata": {},
     "output_type": "display_data"
    }
   ],
   "source": [
    "# Check the number of malignant(M) and benign(B) cases\n",
    "sns.countplot(x=\"Bankrupt\", data=df)"
   ]
  },
  {
   "cell_type": "code",
   "execution_count": 62,
   "metadata": {
    "scrolled": true
   },
   "outputs": [
    {
     "data": {
      "image/png": "[encoded data removed]",
      "text/plain": [
       "<Figure size 504x288 with 1 Axes>"
      ]
     },
     "metadata": {},
     "output_type": "display_data"
    }
   ],
   "source": [
    "plt.figure(figsize=(7,4))\n",
    "sns.lineplot(x=\"fyear\", y=\"revt\", hue=\"Bankrupt\", data=df)\n",
    "plt.xlabel('Financial Year')\n",
    "plt.ylabel('Total Revenue')\n",
    "plt.tight_layout()\n",
    "plt.show()"
   ]
  },
  {
   "cell_type": "code",
   "execution_count": 64,
   "metadata": {},
   "outputs": [
    {
     "data": {
      "image/png": "[encoded data removed]",
      "text/plain": [
       "<Figure size 504x360 with 1 Axes>"
      ]
     },
     "metadata": {},
     "output_type": "display_data"
    }
   ],
   "source": [
    "plt.figure(figsize=(7,5))\n",
    "plt.plot(df['fyear'], df['at'], 'r.-', label=\"Total Assets\")\n",
    "plt.plot(df['fyear'], df['Lt'], 'b.--', label=\"Total Liabilities\")\n",
    "plt.title(\"Total Assets and Liabilities over time\")\n",
    "plt.xlabel('Financial Year')\n",
    "plt.legend()\n",
    "\n",
    "plt.show()"
   ]
  },
  {
   "cell_type": "code",
   "execution_count": 65,
   "metadata": {},
   "outputs": [
    {
     "data": {
      "image/png": "[encoded data removed]",
      "text/plain": [
       "<Figure size 504x360 with 1 Axes>"
      ]
     },
     "metadata": {},
     "output_type": "display_data"
    }
   ],
   "source": [
    "plt.figure(figsize=(7,5))\n",
    "plt.plot(df['fyear'], df['gp'], 'r', label=\"Gross Profit\")\n",
    "plt.plot(df['fyear'], df['ni'], 'b', label=\"Net Income/Loss\")\n",
    "plt.title(\"Gross Profit and Net Income/Loss over time\")\n",
    "plt.xlabel('Financial Year')\n",
    "plt.legend()\n",
    "\n",
    "plt.show()"
   ]
  },
  {
   "cell_type": "code",
   "execution_count": 66,
   "metadata": {},
   "outputs": [
    {
     "data": {
      "text/html": [
       "<div>\n",
       "<style scoped>\n",
       "    .dataframe tbody tr th:only-of-type {\n",
       "        vertical-align: middle;\n",
       "    }\n",
       "\n",
       "    .dataframe tbody tr th {\n",
       "        vertical-align: top;\n",
       "    }\n",
       "\n",
       "    .dataframe thead tr th {\n",
       "        text-align: left;\n",
       "    }\n",
       "\n",
       "    .dataframe thead tr:last-of-type th {\n",
       "        text-align: right;\n",
       "    }\n",
       "</style>\n",
       "<table border=\"1\" class=\"dataframe\">\n",
       "  <thead>\n",
       "    <tr>\n",
       "      <th></th>\n",
       "      <th colspan=\"2\" halign=\"left\">Lt</th>\n",
       "      <th colspan=\"2\" halign=\"left\">at</th>\n",
       "      <th colspan=\"2\" halign=\"left\">dvt</th>\n",
       "      <th colspan=\"2\" halign=\"left\">gp</th>\n",
       "      <th colspan=\"2\" halign=\"left\">invt</th>\n",
       "      <th colspan=\"2\" halign=\"left\">mkvalt</th>\n",
       "      <th colspan=\"2\" halign=\"left\">ni</th>\n",
       "      <th colspan=\"2\" halign=\"left\">revt</th>\n",
       "    </tr>\n",
       "    <tr>\n",
       "      <th>Bankrupt</th>\n",
       "      <th>no</th>\n",
       "      <th>yes</th>\n",
       "      <th>no</th>\n",
       "      <th>yes</th>\n",
       "      <th>no</th>\n",
       "      <th>yes</th>\n",
       "      <th>no</th>\n",
       "      <th>yes</th>\n",
       "      <th>no</th>\n",
       "      <th>yes</th>\n",
       "      <th>no</th>\n",
       "      <th>yes</th>\n",
       "      <th>no</th>\n",
       "      <th>yes</th>\n",
       "      <th>no</th>\n",
       "      <th>yes</th>\n",
       "    </tr>\n",
       "    <tr>\n",
       "      <th>fyear</th>\n",
       "      <th></th>\n",
       "      <th></th>\n",
       "      <th></th>\n",
       "      <th></th>\n",
       "      <th></th>\n",
       "      <th></th>\n",
       "      <th></th>\n",
       "      <th></th>\n",
       "      <th></th>\n",
       "      <th></th>\n",
       "      <th></th>\n",
       "      <th></th>\n",
       "      <th></th>\n",
       "      <th></th>\n",
       "      <th></th>\n",
       "      <th></th>\n",
       "    </tr>\n",
       "  </thead>\n",
       "  <tbody>\n",
       "    <tr>\n",
       "      <td>2001</td>\n",
       "      <td>271.560</td>\n",
       "      <td>15577.870</td>\n",
       "      <td>443.631</td>\n",
       "      <td>19064.191</td>\n",
       "      <td>1.014</td>\n",
       "      <td>48.469</td>\n",
       "      <td>96.842</td>\n",
       "      <td>7594.583</td>\n",
       "      <td>152.265</td>\n",
       "      <td>2731.366</td>\n",
       "      <td>507.7239</td>\n",
       "      <td>8.220586e+03</td>\n",
       "      <td>-62.065</td>\n",
       "      <td>-1388.735</td>\n",
       "      <td>505.290</td>\n",
       "      <td>26922.318</td>\n",
       "    </tr>\n",
       "    <tr>\n",
       "      <td>2002</td>\n",
       "      <td>5411.187</td>\n",
       "      <td>174010.941</td>\n",
       "      <td>7888.996</td>\n",
       "      <td>185638.536</td>\n",
       "      <td>102.947</td>\n",
       "      <td>992.843</td>\n",
       "      <td>1869.409</td>\n",
       "      <td>29128.771</td>\n",
       "      <td>852.103</td>\n",
       "      <td>9972.845</td>\n",
       "      <td>5124.3618</td>\n",
       "      <td>4.117199e+04</td>\n",
       "      <td>63.758</td>\n",
       "      <td>-11135.524</td>\n",
       "      <td>7064.769</td>\n",
       "      <td>134822.920</td>\n",
       "    </tr>\n",
       "    <tr>\n",
       "      <td>2003</td>\n",
       "      <td>6166.284</td>\n",
       "      <td>464128.234</td>\n",
       "      <td>8894.279</td>\n",
       "      <td>501233.968</td>\n",
       "      <td>118.359</td>\n",
       "      <td>864.434</td>\n",
       "      <td>1931.306</td>\n",
       "      <td>42676.581</td>\n",
       "      <td>859.818</td>\n",
       "      <td>146890.308</td>\n",
       "      <td>7041.6313</td>\n",
       "      <td>7.656666e+04</td>\n",
       "      <td>139.587</td>\n",
       "      <td>24830.574</td>\n",
       "      <td>7526.334</td>\n",
       "      <td>153245.872</td>\n",
       "    </tr>\n",
       "    <tr>\n",
       "      <td>2004</td>\n",
       "      <td>6811.063</td>\n",
       "      <td>537117.561</td>\n",
       "      <td>9931.811</td>\n",
       "      <td>575240.185</td>\n",
       "      <td>154.654</td>\n",
       "      <td>1464.920</td>\n",
       "      <td>2222.148</td>\n",
       "      <td>53103.111</td>\n",
       "      <td>1003.700</td>\n",
       "      <td>161860.144</td>\n",
       "      <td>7904.5808</td>\n",
       "      <td>1.078318e+05</td>\n",
       "      <td>335.759</td>\n",
       "      <td>-10853.770</td>\n",
       "      <td>9125.537</td>\n",
       "      <td>179404.530</td>\n",
       "    </tr>\n",
       "    <tr>\n",
       "      <td>2005</td>\n",
       "      <td>7363.475</td>\n",
       "      <td>572862.277</td>\n",
       "      <td>10895.659</td>\n",
       "      <td>590042.467</td>\n",
       "      <td>140.409</td>\n",
       "      <td>1514.302</td>\n",
       "      <td>2283.877</td>\n",
       "      <td>56163.345</td>\n",
       "      <td>1055.678</td>\n",
       "      <td>194143.909</td>\n",
       "      <td>7981.5826</td>\n",
       "      <td>1.097551e+05</td>\n",
       "      <td>197.862</td>\n",
       "      <td>-14302.570</td>\n",
       "      <td>9569.949</td>\n",
       "      <td>197023.554</td>\n",
       "    </tr>\n",
       "    <tr>\n",
       "      <td>2006</td>\n",
       "      <td>11293.029</td>\n",
       "      <td>2646430.650</td>\n",
       "      <td>15771.265</td>\n",
       "      <td>2793310.408</td>\n",
       "      <td>204.276</td>\n",
       "      <td>12663.200</td>\n",
       "      <td>2724.121</td>\n",
       "      <td>176201.213</td>\n",
       "      <td>1301.095</td>\n",
       "      <td>642830.642</td>\n",
       "      <td>10400.8421</td>\n",
       "      <td>5.074795e+05</td>\n",
       "      <td>295.558</td>\n",
       "      <td>16623.107</td>\n",
       "      <td>10454.417</td>\n",
       "      <td>474333.791</td>\n",
       "    </tr>\n",
       "    <tr>\n",
       "      <td>2007</td>\n",
       "      <td>13627.347</td>\n",
       "      <td>3092520.486</td>\n",
       "      <td>19843.154</td>\n",
       "      <td>3283003.514</td>\n",
       "      <td>324.105</td>\n",
       "      <td>14944.142</td>\n",
       "      <td>2830.302</td>\n",
       "      <td>159874.957</td>\n",
       "      <td>1436.025</td>\n",
       "      <td>789352.079</td>\n",
       "      <td>11276.0332</td>\n",
       "      <td>4.736141e+05</td>\n",
       "      <td>-674.090</td>\n",
       "      <td>8436.757</td>\n",
       "      <td>12178.318</td>\n",
       "      <td>457005.244</td>\n",
       "    </tr>\n",
       "    <tr>\n",
       "      <td>2008</td>\n",
       "      <td>14400.874</td>\n",
       "      <td>2151834.271</td>\n",
       "      <td>20430.817</td>\n",
       "      <td>2307083.314</td>\n",
       "      <td>487.490</td>\n",
       "      <td>9374.786</td>\n",
       "      <td>3925.722</td>\n",
       "      <td>47918.473</td>\n",
       "      <td>1402.243</td>\n",
       "      <td>273368.223</td>\n",
       "      <td>6410.9466</td>\n",
       "      <td>3.111563e+05</td>\n",
       "      <td>259.883</td>\n",
       "      <td>-55248.823</td>\n",
       "      <td>13232.125</td>\n",
       "      <td>323773.807</td>\n",
       "    </tr>\n",
       "    <tr>\n",
       "      <td>2009</td>\n",
       "      <td>14115.602</td>\n",
       "      <td>1992820.156</td>\n",
       "      <td>19813.587</td>\n",
       "      <td>2196180.308</td>\n",
       "      <td>428.172</td>\n",
       "      <td>8577.321</td>\n",
       "      <td>2622.820</td>\n",
       "      <td>55522.493</td>\n",
       "      <td>1446.679</td>\n",
       "      <td>290420.051</td>\n",
       "      <td>10060.4554</td>\n",
       "      <td>5.924944e+06</td>\n",
       "      <td>-822.675</td>\n",
       "      <td>18235.819</td>\n",
       "      <td>10097.382</td>\n",
       "      <td>274735.726</td>\n",
       "    </tr>\n",
       "    <tr>\n",
       "      <td>2010</td>\n",
       "      <td>186.794</td>\n",
       "      <td>NaN</td>\n",
       "      <td>465.767</td>\n",
       "      <td>NaN</td>\n",
       "      <td>14.440</td>\n",
       "      <td>NaN</td>\n",
       "      <td>362.684</td>\n",
       "      <td>NaN</td>\n",
       "      <td>40.433</td>\n",
       "      <td>NaN</td>\n",
       "      <td>475.0519</td>\n",
       "      <td>NaN</td>\n",
       "      <td>15.822</td>\n",
       "      <td>NaN</td>\n",
       "      <td>1329.466</td>\n",
       "      <td>NaN</td>\n",
       "    </tr>\n",
       "  </tbody>\n",
       "</table>\n",
       "</div>"
      ],
      "text/plain": [
       "                 Lt                      at                   dvt             \\\n",
       "Bankrupt         no          yes         no          yes       no        yes   \n",
       "fyear                                                                          \n",
       "2001        271.560    15577.870    443.631    19064.191    1.014     48.469   \n",
       "2002       5411.187   174010.941   7888.996   185638.536  102.947    992.843   \n",
       "2003       6166.284   464128.234   8894.279   501233.968  118.359    864.434   \n",
       "2004       6811.063   537117.561   9931.811   575240.185  154.654   1464.920   \n",
       "2005       7363.475   572862.277  10895.659   590042.467  140.409   1514.302   \n",
       "2006      11293.029  2646430.650  15771.265  2793310.408  204.276  12663.200   \n",
       "2007      13627.347  3092520.486  19843.154  3283003.514  324.105  14944.142   \n",
       "2008      14400.874  2151834.271  20430.817  2307083.314  487.490   9374.786   \n",
       "2009      14115.602  1992820.156  19813.587  2196180.308  428.172   8577.321   \n",
       "2010        186.794          NaN    465.767          NaN   14.440        NaN   \n",
       "\n",
       "                gp                  invt                  mkvalt  \\\n",
       "Bankrupt        no         yes        no         yes          no   \n",
       "fyear                                                              \n",
       "2001        96.842    7594.583   152.265    2731.366    507.7239   \n",
       "2002      1869.409   29128.771   852.103    9972.845   5124.3618   \n",
       "2003      1931.306   42676.581   859.818  146890.308   7041.6313   \n",
       "2004      2222.148   53103.111  1003.700  161860.144   7904.5808   \n",
       "2005      2283.877   56163.345  1055.678  194143.909   7981.5826   \n",
       "2006      2724.121  176201.213  1301.095  642830.642  10400.8421   \n",
       "2007      2830.302  159874.957  1436.025  789352.079  11276.0332   \n",
       "2008      3925.722   47918.473  1402.243  273368.223   6410.9466   \n",
       "2009      2622.820   55522.493  1446.679  290420.051  10060.4554   \n",
       "2010       362.684         NaN    40.433         NaN    475.0519   \n",
       "\n",
       "                             ni                  revt              \n",
       "Bankrupt           yes       no        yes         no         yes  \n",
       "fyear                                                              \n",
       "2001      8.220586e+03  -62.065  -1388.735    505.290   26922.318  \n",
       "2002      4.117199e+04   63.758 -11135.524   7064.769  134822.920  \n",
       "2003      7.656666e+04  139.587  24830.574   7526.334  153245.872  \n",
       "2004      1.078318e+05  335.759 -10853.770   9125.537  179404.530  \n",
       "2005      1.097551e+05  197.862 -14302.570   9569.949  197023.554  \n",
       "2006      5.074795e+05  295.558  16623.107  10454.417  474333.791  \n",
       "2007      4.736141e+05 -674.090   8436.757  12178.318  457005.244  \n",
       "2008      3.111563e+05  259.883 -55248.823  13232.125  323773.807  \n",
       "2009      5.924944e+06 -822.675  18235.819  10097.382  274735.726  \n",
       "2010               NaN   15.822        NaN   1329.466         NaN  "
      ]
     },
     "execution_count": 66,
     "metadata": {},
     "output_type": "execute_result"
    }
   ],
   "source": [
    "# pivot table with year as index\n",
    "table = pd.pivot_table(df, values=['at', 'invt', 'Lt', 'dvt', 'gp', 'ni', 'revt', 'mkvalt'], index=['fyear'],\n",
    "                    columns=['Bankrupt'], aggfunc=np.sum)\n",
    "table"
   ]
  },
  {
   "cell_type": "code",
   "execution_count": 67,
   "metadata": {},
   "outputs": [
    {
     "data": {
      "image/png": "[encoded data removed]",
      "text/plain": [
       "<Figure size 720x360 with 1 Axes>"
      ]
     },
     "metadata": {},
     "output_type": "display_data"
    }
   ],
   "source": [
    "plt.figure(figsize=(10,5))\n",
    "sns.barplot(x = df['fyear'], y = df['ni'], hue=df['Bankrupt'])\n",
    "plt.ylim(0, 400)\n",
    "plt.title(\"Net Profit over Time\")\n",
    "plt.ylabel('Net Profit')\n",
    "plt.xlabel('Year')\n",
    "plt.tight_layout()\n",
    "plt.show()"
   ]
  },
  {
   "cell_type": "code",
   "execution_count": 15,
   "metadata": {},
   "outputs": [
    {
     "data": {
      "image/png": "[encoded data removed]",
      "text/plain": [
       "<Figure size 720x360 with 1 Axes>"
      ]
     },
     "metadata": {
      "needs_background": "light"
     },
     "output_type": "display_data"
    }
   ],
   "source": [
    "plt.figure(figsize=(10,5))\n",
    "sns.barplot(x = df['fyear'], y = df['Lt'], hue=df['Bankrupt'])\n",
    "plt.ylim(0, 40000)\n",
    "plt.title(\"Total Liabilities over Time\")\n",
    "plt.ylabel('Liabilities')\n",
    "plt.xlabel('Year')\n",
    "plt.tight_layout()\n",
    "plt.show()"
   ]
  },
  {
   "cell_type": "code",
   "execution_count": 16,
   "metadata": {},
   "outputs": [],
   "source": [
    "corr_matrix = round(df.corr(), 2)"
   ]
  },
  {
   "cell_type": "code",
   "execution_count": 17,
   "metadata": {
    "scrolled": true
   },
   "outputs": [
    {
     "data": {
      "image/png": "[encoded data removed]",
      "text/plain": [
       "<Figure size 720x720 with 2 Axes>"
      ]
     },
     "metadata": {},
     "output_type": "display_data"
    }
   ],
   "source": [
    "# heat map of correlation matrix\n",
    "sns.set(rc={'figure.figsize':(10,10)})\n",
    "sns.heatmap(corr_matrix, cmap='Greens', annot_kws={'size': 10}, cbar = True, annot=True)\n",
    "plt.title('Variable Correlation Plot')\n",
    "plt.show()"
   ]
  },
  {
   "cell_type": "code",
   "execution_count": 72,
   "metadata": {
    "scrolled": true
   },
   "outputs": [
    {
     "data": {
      "text/html": [
       "<div>\n",
       "<style scoped>\n",
       "    .dataframe tbody tr th:only-of-type {\n",
       "        vertical-align: middle;\n",
       "    }\n",
       "\n",
       "    .dataframe tbody tr th {\n",
       "        vertical-align: top;\n",
       "    }\n",
       "\n",
       "    .dataframe thead th {\n",
       "        text-align: right;\n",
       "    }\n",
       "</style>\n",
       "<table border=\"1\" class=\"dataframe\">\n",
       "  <thead>\n",
       "    <tr style=\"text-align: right;\">\n",
       "      <th></th>\n",
       "      <th>at</th>\n",
       "      <th>bkvlps</th>\n",
       "      <th>invt</th>\n",
       "      <th>Lt</th>\n",
       "      <th>rectr</th>\n",
       "      <th>cogs</th>\n",
       "      <th>dvt</th>\n",
       "      <th>ebit</th>\n",
       "      <th>gp</th>\n",
       "      <th>ni</th>\n",
       "      <th>oiadp</th>\n",
       "      <th>revt</th>\n",
       "      <th>dvpsx_f</th>\n",
       "      <th>mkvalt</th>\n",
       "      <th>prch_f</th>\n",
       "      <th>Bankrupt</th>\n",
       "    </tr>\n",
       "  </thead>\n",
       "  <tbody>\n",
       "    <tr>\n",
       "      <td>0</td>\n",
       "      <td>9.252</td>\n",
       "      <td>1.9283</td>\n",
       "      <td>0.000</td>\n",
       "      <td>0.731</td>\n",
       "      <td>0.079</td>\n",
       "      <td>0.750</td>\n",
       "      <td>0.0</td>\n",
       "      <td>-0.379</td>\n",
       "      <td>0.442</td>\n",
       "      <td>-0.288</td>\n",
       "      <td>-0.379</td>\n",
       "      <td>1.192</td>\n",
       "      <td>0.0</td>\n",
       "      <td>10.3847</td>\n",
       "      <td>2.635</td>\n",
       "      <td>0</td>\n",
       "    </tr>\n",
       "    <tr>\n",
       "      <td>1</td>\n",
       "      <td>20.315</td>\n",
       "      <td>0.3903</td>\n",
       "      <td>0.066</td>\n",
       "      <td>5.240</td>\n",
       "      <td>0.106</td>\n",
       "      <td>1.407</td>\n",
       "      <td>0.0</td>\n",
       "      <td>-4.481</td>\n",
       "      <td>-0.028</td>\n",
       "      <td>-4.585</td>\n",
       "      <td>-4.481</td>\n",
       "      <td>1.379</td>\n",
       "      <td>0.0</td>\n",
       "      <td>22.2900</td>\n",
       "      <td>2.140</td>\n",
       "      <td>0</td>\n",
       "    </tr>\n",
       "    <tr>\n",
       "      <td>2</td>\n",
       "      <td>5.182</td>\n",
       "      <td>3.6446</td>\n",
       "      <td>1.558</td>\n",
       "      <td>1.501</td>\n",
       "      <td>0.193</td>\n",
       "      <td>7.638</td>\n",
       "      <td>0.0</td>\n",
       "      <td>-0.788</td>\n",
       "      <td>2.843</td>\n",
       "      <td>0.262</td>\n",
       "      <td>-0.788</td>\n",
       "      <td>10.481</td>\n",
       "      <td>0.0</td>\n",
       "      <td>3.7370</td>\n",
       "      <td>4.400</td>\n",
       "      <td>0</td>\n",
       "    </tr>\n",
       "    <tr>\n",
       "      <td>3</td>\n",
       "      <td>1.038</td>\n",
       "      <td>0.0083</td>\n",
       "      <td>0.289</td>\n",
       "      <td>0.903</td>\n",
       "      <td>0.218</td>\n",
       "      <td>0.756</td>\n",
       "      <td>0.0</td>\n",
       "      <td>-1.361</td>\n",
       "      <td>0.632</td>\n",
       "      <td>-1.365</td>\n",
       "      <td>-1.361</td>\n",
       "      <td>1.388</td>\n",
       "      <td>0.0</td>\n",
       "      <td>18.9306</td>\n",
       "      <td>1.750</td>\n",
       "      <td>0</td>\n",
       "    </tr>\n",
       "    <tr>\n",
       "      <td>4</td>\n",
       "      <td>10.301</td>\n",
       "      <td>0.2367</td>\n",
       "      <td>1.626</td>\n",
       "      <td>6.099</td>\n",
       "      <td>1.150</td>\n",
       "      <td>8.108</td>\n",
       "      <td>0.0</td>\n",
       "      <td>0.651</td>\n",
       "      <td>3.008</td>\n",
       "      <td>-0.175</td>\n",
       "      <td>0.651</td>\n",
       "      <td>11.116</td>\n",
       "      <td>0.0</td>\n",
       "      <td>1.3313</td>\n",
       "      <td>0.120</td>\n",
       "      <td>0</td>\n",
       "    </tr>\n",
       "  </tbody>\n",
       "</table>\n",
       "</div>"
      ],
      "text/plain": [
       "       at  bkvlps   invt     Lt  rectr   cogs  dvt   ebit     gp     ni  \\\n",
       "0   9.252  1.9283  0.000  0.731  0.079  0.750  0.0 -0.379  0.442 -0.288   \n",
       "1  20.315  0.3903  0.066  5.240  0.106  1.407  0.0 -4.481 -0.028 -4.585   \n",
       "2   5.182  3.6446  1.558  1.501  0.193  7.638  0.0 -0.788  2.843  0.262   \n",
       "3   1.038  0.0083  0.289  0.903  0.218  0.756  0.0 -1.361  0.632 -1.365   \n",
       "4  10.301  0.2367  1.626  6.099  1.150  8.108  0.0  0.651  3.008 -0.175   \n",
       "\n",
       "   oiadp    revt  dvpsx_f   mkvalt  prch_f  Bankrupt  \n",
       "0 -0.379   1.192      0.0  10.3847   2.635         0  \n",
       "1 -4.481   1.379      0.0  22.2900   2.140         0  \n",
       "2 -0.788  10.481      0.0   3.7370   4.400         0  \n",
       "3 -1.361   1.388      0.0  18.9306   1.750         0  \n",
       "4  0.651  11.116      0.0   1.3313   0.120         0  "
      ]
     },
     "execution_count": 72,
     "metadata": {},
     "output_type": "execute_result"
    }
   ],
   "source": [
    "# converting Bankrupt status to dummy variables\n",
    "le = LabelEncoder()\n",
    "df['Bankrupt'] = le.fit_transform(df.Bankrupt)\n",
    "\n",
    "# deleting the year column\n",
    "df2 = df.iloc[:,1:17]\n",
    "df2.head()"
   ]
  },
  {
   "cell_type": "code",
   "execution_count": 73,
   "metadata": {},
   "outputs": [
    {
     "data": {
      "text/plain": [
       "(1321, 16)"
      ]
     },
     "execution_count": 73,
     "metadata": {},
     "output_type": "execute_result"
    }
   ],
   "source": [
    "df2.shape"
   ]
  },
  {
   "cell_type": "code",
   "execution_count": 74,
   "metadata": {},
   "outputs": [
    {
     "data": {
      "text/html": [
       "<div>\n",
       "<style scoped>\n",
       "    .dataframe tbody tr th:only-of-type {\n",
       "        vertical-align: middle;\n",
       "    }\n",
       "\n",
       "    .dataframe tbody tr th {\n",
       "        vertical-align: top;\n",
       "    }\n",
       "\n",
       "    .dataframe thead th {\n",
       "        text-align: right;\n",
       "    }\n",
       "</style>\n",
       "<table border=\"1\" class=\"dataframe\">\n",
       "  <thead>\n",
       "    <tr style=\"text-align: right;\">\n",
       "      <th></th>\n",
       "      <th>at</th>\n",
       "      <th>bkvlps</th>\n",
       "      <th>invt</th>\n",
       "      <th>Lt</th>\n",
       "      <th>rectr</th>\n",
       "      <th>cogs</th>\n",
       "      <th>dvt</th>\n",
       "      <th>ebit</th>\n",
       "      <th>gp</th>\n",
       "      <th>ni</th>\n",
       "      <th>oiadp</th>\n",
       "      <th>revt</th>\n",
       "      <th>dvpsx_f</th>\n",
       "      <th>mkvalt</th>\n",
       "      <th>prch_f</th>\n",
       "    </tr>\n",
       "  </thead>\n",
       "  <tbody>\n",
       "    <tr>\n",
       "      <td>0</td>\n",
       "      <td>9.252</td>\n",
       "      <td>1.9283</td>\n",
       "      <td>0.000</td>\n",
       "      <td>0.731</td>\n",
       "      <td>0.079</td>\n",
       "      <td>0.750</td>\n",
       "      <td>0.0</td>\n",
       "      <td>-0.379</td>\n",
       "      <td>0.442</td>\n",
       "      <td>-0.288</td>\n",
       "      <td>-0.379</td>\n",
       "      <td>1.192</td>\n",
       "      <td>0.0</td>\n",
       "      <td>10.3847</td>\n",
       "      <td>2.635</td>\n",
       "    </tr>\n",
       "    <tr>\n",
       "      <td>1</td>\n",
       "      <td>20.315</td>\n",
       "      <td>0.3903</td>\n",
       "      <td>0.066</td>\n",
       "      <td>5.240</td>\n",
       "      <td>0.106</td>\n",
       "      <td>1.407</td>\n",
       "      <td>0.0</td>\n",
       "      <td>-4.481</td>\n",
       "      <td>-0.028</td>\n",
       "      <td>-4.585</td>\n",
       "      <td>-4.481</td>\n",
       "      <td>1.379</td>\n",
       "      <td>0.0</td>\n",
       "      <td>22.2900</td>\n",
       "      <td>2.140</td>\n",
       "    </tr>\n",
       "  </tbody>\n",
       "</table>\n",
       "</div>"
      ],
      "text/plain": [
       "       at  bkvlps   invt     Lt  rectr   cogs  dvt   ebit     gp     ni  \\\n",
       "0   9.252  1.9283  0.000  0.731  0.079  0.750  0.0 -0.379  0.442 -0.288   \n",
       "1  20.315  0.3903  0.066  5.240  0.106  1.407  0.0 -4.481 -0.028 -4.585   \n",
       "\n",
       "   oiadp   revt  dvpsx_f   mkvalt  prch_f  \n",
       "0 -0.379  1.192      0.0  10.3847   2.635  \n",
       "1 -4.481  1.379      0.0  22.2900   2.140  "
      ]
     },
     "execution_count": 74,
     "metadata": {},
     "output_type": "execute_result"
    }
   ],
   "source": [
    "# splitting data into X and Y\n",
    "X=df2.iloc[:,:-1]\n",
    "X.head(2)"
   ]
  },
  {
   "cell_type": "code",
   "execution_count": 75,
   "metadata": {},
   "outputs": [
    {
     "data": {
      "text/plain": [
       "0    0\n",
       "1    0\n",
       "Name: Bankrupt, dtype: int64"
      ]
     },
     "execution_count": 75,
     "metadata": {},
     "output_type": "execute_result"
    }
   ],
   "source": [
    "Y=df2.iloc[:,15]\n",
    "Y.head(2)"
   ]
  },
  {
   "cell_type": "code",
   "execution_count": 22,
   "metadata": {},
   "outputs": [],
   "source": [
    "from sklearn.model_selection import train_test_split"
   ]
  },
  {
   "cell_type": "code",
   "execution_count": 23,
   "metadata": {},
   "outputs": [],
   "source": [
    "X_train, X_test, Y_train, Y_test = train_test_split(X, Y, test_size=0.2, random_state=123)"
   ]
  },
  {
   "cell_type": "code",
   "execution_count": 24,
   "metadata": {},
   "outputs": [
    {
     "name": "stdout",
     "output_type": "stream",
     "text": [
      "Test size: 265\n",
      "Train size: 1056\n"
     ]
    }
   ],
   "source": [
    "print('Test size: ' + str(len(X_test)))\n",
    "print('Train size: ' + str(len(X_train)))"
   ]
  },
  {
   "cell_type": "markdown",
   "metadata": {},
   "source": [
    "## 3.1 Modelling Data"
   ]
  },
  {
   "cell_type": "code",
   "execution_count": 25,
   "metadata": {},
   "outputs": [],
   "source": [
    "from sklearn.svm import SVC\n",
    "from sklearn.linear_model import LogisticRegression\n",
    "from sklearn.neighbors import KNeighborsClassifier \n",
    "from sklearn.ensemble import ExtraTreesClassifier\n",
    "from sklearn.ensemble import BaggingClassifier\n",
    "from sklearn.naive_bayes import GaussianNB\n",
    "from sklearn.ensemble import RandomForestClassifier\n",
    "from sklearn.metrics import accuracy_score, recall_score, confusion_matrix, balanced_accuracy_score, roc_curve, roc_auc_score"
   ]
  },
  {
   "cell_type": "code",
   "execution_count": 26,
   "metadata": {},
   "outputs": [],
   "source": [
    "etc = ExtraTreesClassifier(n_estimators='warn',\n",
    "    criterion='gini',\n",
    "    random_state=100)"
   ]
  },
  {
   "cell_type": "code",
   "execution_count": 27,
   "metadata": {},
   "outputs": [],
   "source": [
    "bagging = BaggingClassifier(n_estimators=1000,\n",
    "    n_jobs=10,\n",
    "    random_state=100,\n",
    "    verbose=0)"
   ]
  },
  {
   "cell_type": "code",
   "execution_count": 28,
   "metadata": {},
   "outputs": [],
   "source": [
    "nb = GaussianNB()"
   ]
  },
  {
   "cell_type": "code",
   "execution_count": 29,
   "metadata": {},
   "outputs": [],
   "source": [
    "rf = RandomForestClassifier(random_state=None)"
   ]
  },
  {
   "cell_type": "code",
   "execution_count": 30,
   "metadata": {},
   "outputs": [],
   "source": [
    "svm = SVC(random_state=100, C=1.0,\n",
    "    kernel='rbf',\n",
    "    probability=True,\n",
    "    ) "
   ]
  },
  {
   "cell_type": "code",
   "execution_count": 31,
   "metadata": {},
   "outputs": [],
   "source": [
    "logit = LogisticRegression(tol=0.0001,\n",
    "    random_state=10)"
   ]
  },
  {
   "cell_type": "code",
   "execution_count": 32,
   "metadata": {},
   "outputs": [],
   "source": [
    "# Fitting models that does not require scaling\n",
    "models_1 = [[\"DecisionTreeClassifier\",etc],\n",
    "         [\"BaggingClassifier\",bagging],\n",
    "         [\"GaussianNB\",nb],\n",
    "         [\"RandomForestClassifier\",rf]]"
   ]
  },
  {
   "cell_type": "code",
   "execution_count": 33,
   "metadata": {},
   "outputs": [
    {
     "name": "stderr",
     "output_type": "stream",
     "text": [
      "C:\\Users\\steve\\Anaconda3\\lib\\site-packages\\sklearn\\ensemble\\forest.py:245: FutureWarning: The default value of n_estimators will change from 10 in version 0.20 to 100 in 0.22.\n",
      "  \"10 in version 0.20 to 100 in 0.22.\", FutureWarning)\n",
      "C:\\Users\\steve\\Anaconda3\\lib\\site-packages\\sklearn\\ensemble\\forest.py:245: FutureWarning: The default value of n_estimators will change from 10 in version 0.20 to 100 in 0.22.\n",
      "  \"10 in version 0.20 to 100 in 0.22.\", FutureWarning)\n"
     ]
    }
   ],
   "source": [
    "m_accuracy = []\n",
    "positive_rates = []\n",
    "# loop for calculating model performance\n",
    "for i in models_1:\n",
    "    m = i[1]\n",
    "    m.fit(X_train,Y_train)\n",
    "    y_predict = m.predict(X_test)\n",
    "    ACC = round(accuracy_score(Y_test, y_predict), 2) \n",
    "    recall = round(recall_score(Y_test, y_predict, average='weighted'), 2) \n",
    "    B_ACC = round(balanced_accuracy_score(Y_test, y_predict), 2)\n",
    "    Specificiti = round(2 * B_ACC - recall, 2)\n",
    "    # predict probabilities\n",
    "    probs = m.predict_proba(X_test)[:, 1]\n",
    "    # calculate scores\n",
    "    auc = round(roc_auc_score(Y_test, probs), 2)\n",
    "    # calculate roc curves\n",
    "    fpr, tpr, _ = roc_curve(Y_test, probs)\n",
    "    m_accuracy.append([i[0],ACC,recall,B_ACC,Specificiti, auc])\n",
    "    positive_rates.append([i[0], fpr, tpr])"
   ]
  },
  {
   "cell_type": "markdown",
   "metadata": {},
   "source": [
    "Due to the wide difference between the the means of the features, we will have to normalise the features for learning algorithm that computes the distance between the data points lke KNN. This includes all curve based algorithms. "
   ]
  },
  {
   "cell_type": "code",
   "execution_count": 34,
   "metadata": {},
   "outputs": [],
   "source": [
    "# instantiating scaler\n",
    "scaler = MinMaxScaler()"
   ]
  },
  {
   "cell_type": "code",
   "execution_count": 35,
   "metadata": {},
   "outputs": [
    {
     "data": {
      "text/plain": [
       "1056"
      ]
     },
     "execution_count": 35,
     "metadata": {},
     "output_type": "execute_result"
    }
   ],
   "source": [
    "# normalising data\n",
    "scaler.fit(X_train)\n",
    "X1 = scaler.transform(X_train)\n",
    "X2 = scaler.transform(X_test)\n",
    "X_train_scaled = pd.DataFrame(X1, columns=X_train.columns)\n",
    "X_test_scaled = pd.DataFrame(X2, columns=X_test.columns)\n",
    "len(X_train_scaled)"
   ]
  },
  {
   "cell_type": "code",
   "execution_count": 36,
   "metadata": {},
   "outputs": [],
   "source": [
    "# search for an optimal value of K for KNN\n",
    "\n",
    "# range of k we want to try\n",
    "k_range = range(1, 31)\n",
    "# empty list to store scores\n",
    "k_scores = []\n",
    "\n",
    "# 1. we will loop through reasonable values of k\n",
    "for k in k_range:\n",
    "    # 2. run KNeighborsClassifier with k neighbours\n",
    "    knn = KNeighborsClassifier(n_neighbors=k)\n",
    "    knn.fit(X_train_scaled, Y_train)\n",
    "    pred = knn.predict(X_test_scaled)\n",
    "    acc = accuracy_score(Y_test, pred)\n",
    "    # 3. append  scores for k neighbors to k_scores list\n",
    "    k_scores.append(acc)\n",
    "    "
   ]
  },
  {
   "cell_type": "code",
   "execution_count": 37,
   "metadata": {},
   "outputs": [
    {
     "data": {
      "text/plain": [
       "Text(0, 0.5, 'Cross-validated accuracy')"
      ]
     },
     "execution_count": 37,
     "metadata": {},
     "output_type": "execute_result"
    },
    {
     "data": {
      "image/png": "[encoded data removed]",
      "text/plain": [
       "<Figure size 360x360 with 1 Axes>"
      ]
     },
     "metadata": {},
     "output_type": "display_data"
    }
   ],
   "source": [
    "# plot the value of K for KNN (x-axis) versus accuracy scores (y-axis)\n",
    "sns.set(rc={'figure.figsize':(5,5)})\n",
    "plt.plot(k_range, k_scores)\n",
    "plt.xlabel('Value of K for KNN')\n",
    "plt.ylabel('Cross-validated accuracy')"
   ]
  },
  {
   "cell_type": "code",
   "execution_count": 38,
   "metadata": {},
   "outputs": [
    {
     "data": {
      "text/plain": [
       "7"
      ]
     },
     "execution_count": 38,
     "metadata": {},
     "output_type": "execute_result"
    }
   ],
   "source": [
    "#finding the best k\n",
    "k_df = pd.DataFrame(k_scores, index=k_range)\n",
    "best_kest = int(k_df.idxmax())\n",
    "best_kest"
   ]
  },
  {
   "cell_type": "code",
   "execution_count": 39,
   "metadata": {
    "scrolled": true
   },
   "outputs": [],
   "source": [
    "knn = KNeighborsClassifier(n_neighbors=best_kest)"
   ]
  },
  {
   "cell_type": "code",
   "execution_count": 40,
   "metadata": {},
   "outputs": [],
   "source": [
    "# Fitting models that require scaling\n",
    "models_2 = [[\"LogisticRegression\",logit],\n",
    "         [\"SupportVector Machine\",svm],\n",
    "         [\"KNeighborsClassifier\",knn]]"
   ]
  },
  {
   "cell_type": "code",
   "execution_count": 41,
   "metadata": {
    "scrolled": true
   },
   "outputs": [
    {
     "name": "stderr",
     "output_type": "stream",
     "text": [
      "C:\\Users\\steve\\Anaconda3\\lib\\site-packages\\sklearn\\linear_model\\logistic.py:432: FutureWarning: Default solver will be changed to 'lbfgs' in 0.22. Specify a solver to silence this warning.\n",
      "  FutureWarning)\n",
      "C:\\Users\\steve\\Anaconda3\\lib\\site-packages\\sklearn\\svm\\base.py:193: FutureWarning: The default value of gamma will change from 'auto' to 'scale' in version 0.22 to account better for unscaled features. Set gamma explicitly to 'auto' or 'scale' to avoid this warning.\n",
      "  \"avoid this warning.\", FutureWarning)\n"
     ]
    }
   ],
   "source": [
    "for i in models_2:\n",
    "    m = i[1]\n",
    "    m.fit(X_train_scaled, Y_train)\n",
    "    y_predict = m.predict(X_test_scaled)\n",
    "    ACC = round(accuracy_score(Y_test, y_predict), 2) \n",
    "    recall = round(recall_score(Y_test, y_predict, average='weighted'), 2) \n",
    "    B_ACC = round(balanced_accuracy_score(Y_test, y_predict), 2)\n",
    "    Specificiti = round(2 * B_ACC - recall, 2)\n",
    "    # predict probabilities\n",
    "    probs = m.predict_proba(X_test_scaled)[:, 1]\n",
    "    # calculate scores\n",
    "    auc = round(roc_auc_score(Y_test, probs), 2)\n",
    "    fpr, tpr, _ = roc_curve(Y_test, probs)\n",
    "    m_accuracy.append([i[0],ACC,recall,B_ACC,Specificiti, auc])\n",
    "    positive_rates.append([i[0], fpr, tpr])"
   ]
  },
  {
   "cell_type": "code",
   "execution_count": 42,
   "metadata": {
    "scrolled": true
   },
   "outputs": [
    {
     "data": {
      "text/html": [
       "<style  type=\"text/css\" >\n",
       "    #T_c1cdb4d8_a688_11ea_9226_802bf9422f0arow0_col1 {\n",
       "            width:  10em;\n",
       "             height:  80%;\n",
       "            background:  linear-gradient(90deg,#0d8ca6 100.0%, transparent 100.0%);\n",
       "        }    #T_c1cdb4d8_a688_11ea_9226_802bf9422f0arow0_col2 {\n",
       "            width:  10em;\n",
       "             height:  80%;\n",
       "            background:  linear-gradient(90deg,#50cce6 100.0%, transparent 100.0%);\n",
       "        }    #T_c1cdb4d8_a688_11ea_9226_802bf9422f0arow0_col3 {\n",
       "            width:  10em;\n",
       "             height:  80%;\n",
       "            background:  linear-gradient(90deg,#17990e 100.0%, transparent 100.0%);\n",
       "        }    #T_c1cdb4d8_a688_11ea_9226_802bf9422f0arow0_col4 {\n",
       "            width:  10em;\n",
       "             height:  80%;\n",
       "            background:  linear-gradient(90deg,#6ed667 100.0%, transparent 100.0%);\n",
       "        }    #T_c1cdb4d8_a688_11ea_9226_802bf9422f0arow0_col5 {\n",
       "            width:  10em;\n",
       "             height:  80%;\n",
       "            background:  linear-gradient(90deg,#9fd4b8 100.0%, transparent 100.0%);\n",
       "        }    #T_c1cdb4d8_a688_11ea_9226_802bf9422f0arow1_col1 {\n",
       "            width:  10em;\n",
       "             height:  80%;\n",
       "            background:  linear-gradient(90deg,#0d8ca6 95.0%, transparent 95.0%);\n",
       "        }    #T_c1cdb4d8_a688_11ea_9226_802bf9422f0arow1_col2 {\n",
       "            width:  10em;\n",
       "             height:  80%;\n",
       "            background:  linear-gradient(90deg,#50cce6 95.0%, transparent 95.0%);\n",
       "        }    #T_c1cdb4d8_a688_11ea_9226_802bf9422f0arow1_col3 {\n",
       "            width:  10em;\n",
       "             height:  80%;\n",
       "            background:  linear-gradient(90deg,#17990e 95.6%, transparent 95.6%);\n",
       "        }    #T_c1cdb4d8_a688_11ea_9226_802bf9422f0arow1_col4 {\n",
       "            width:  10em;\n",
       "             height:  80%;\n",
       "            background:  linear-gradient(90deg,#6ed667 96.0%, transparent 96.0%);\n",
       "        }    #T_c1cdb4d8_a688_11ea_9226_802bf9422f0arow1_col5 {\n",
       "            width:  10em;\n",
       "             height:  80%;\n",
       "            background:  linear-gradient(90deg,#9fd4b8 100.0%, transparent 100.0%);\n",
       "        }    #T_c1cdb4d8_a688_11ea_9226_802bf9422f0arow2_col1 {\n",
       "            width:  10em;\n",
       "             height:  80%;\n",
       "            background:  linear-gradient(90deg,#0d8ca6 30.0%, transparent 30.0%);\n",
       "        }    #T_c1cdb4d8_a688_11ea_9226_802bf9422f0arow2_col2 {\n",
       "            width:  10em;\n",
       "             height:  80%;\n",
       "            background:  linear-gradient(90deg,#50cce6 30.0%, transparent 30.0%);\n",
       "        }    #T_c1cdb4d8_a688_11ea_9226_802bf9422f0arow2_col3 {\n",
       "            width:  10em;\n",
       "             height:  80%;\n",
       "            background:  linear-gradient(90deg,#17990e 44.4%, transparent 44.4%);\n",
       "        }    #T_c1cdb4d8_a688_11ea_9226_802bf9422f0arow2_col4 {\n",
       "            width:  10em;\n",
       "             height:  80%;\n",
       "            background:  linear-gradient(90deg,#6ed667 56.0%, transparent 56.0%);\n",
       "        }    #T_c1cdb4d8_a688_11ea_9226_802bf9422f0arow2_col5 {\n",
       "            width:  10em;\n",
       "             height:  80%;\n",
       "            background:  linear-gradient(90deg,#9fd4b8 65.2%, transparent 65.2%);\n",
       "        }    #T_c1cdb4d8_a688_11ea_9226_802bf9422f0arow3_col1 {\n",
       "            width:  10em;\n",
       "             height:  80%;\n",
       "            background:  linear-gradient(90deg,#0d8ca6 97.5%, transparent 97.5%);\n",
       "        }    #T_c1cdb4d8_a688_11ea_9226_802bf9422f0arow3_col2 {\n",
       "            width:  10em;\n",
       "             height:  80%;\n",
       "            background:  linear-gradient(90deg,#50cce6 97.5%, transparent 97.5%);\n",
       "        }    #T_c1cdb4d8_a688_11ea_9226_802bf9422f0arow3_col3 {\n",
       "            width:  10em;\n",
       "             height:  80%;\n",
       "            background:  linear-gradient(90deg,#17990e 97.8%, transparent 97.8%);\n",
       "        }    #T_c1cdb4d8_a688_11ea_9226_802bf9422f0arow3_col4 {\n",
       "            width:  10em;\n",
       "             height:  80%;\n",
       "            background:  linear-gradient(90deg,#6ed667 98.0%, transparent 98.0%);\n",
       "        }    #T_c1cdb4d8_a688_11ea_9226_802bf9422f0arow3_col5 {\n",
       "            width:  10em;\n",
       "             height:  80%;\n",
       "            background:  linear-gradient(90deg,#9fd4b8 100.0%, transparent 100.0%);\n",
       "        }    #T_c1cdb4d8_a688_11ea_9226_802bf9422f0arow4_col1 {\n",
       "            width:  10em;\n",
       "             height:  80%;\n",
       "            background:  linear-gradient(90deg,#0d8ca6 32.5%, transparent 32.5%);\n",
       "        }    #T_c1cdb4d8_a688_11ea_9226_802bf9422f0arow4_col2 {\n",
       "            width:  10em;\n",
       "             height:  80%;\n",
       "            background:  linear-gradient(90deg,#50cce6 32.5%, transparent 32.5%);\n",
       "        }    #T_c1cdb4d8_a688_11ea_9226_802bf9422f0arow4_col3 {\n",
       "            width:  10em;\n",
       "             height:  80%;\n",
       "            background:  linear-gradient(90deg,#17990e 40.0%, transparent 40.0%);\n",
       "        }    #T_c1cdb4d8_a688_11ea_9226_802bf9422f0arow4_col4 {\n",
       "            width:  10em;\n",
       "             height:  80%;\n",
       "            background:  linear-gradient(90deg,#6ed667 46.0%, transparent 46.0%);\n",
       "        }    #T_c1cdb4d8_a688_11ea_9226_802bf9422f0arow4_col5 {\n",
       "            width:  10em;\n",
       "             height:  80%;\n",
       "            background:  linear-gradient(90deg,#9fd4b8 4.3%, transparent 4.3%);\n",
       "        }    #T_c1cdb4d8_a688_11ea_9226_802bf9422f0arow5_col1 {\n",
       "            width:  10em;\n",
       "             height:  80%;\n",
       "        }    #T_c1cdb4d8_a688_11ea_9226_802bf9422f0arow5_col2 {\n",
       "            width:  10em;\n",
       "             height:  80%;\n",
       "        }    #T_c1cdb4d8_a688_11ea_9226_802bf9422f0arow5_col3 {\n",
       "            width:  10em;\n",
       "             height:  80%;\n",
       "        }    #T_c1cdb4d8_a688_11ea_9226_802bf9422f0arow5_col4 {\n",
       "            width:  10em;\n",
       "             height:  80%;\n",
       "        }    #T_c1cdb4d8_a688_11ea_9226_802bf9422f0arow5_col5 {\n",
       "            width:  10em;\n",
       "             height:  80%;\n",
       "        }    #T_c1cdb4d8_a688_11ea_9226_802bf9422f0arow6_col1 {\n",
       "            width:  10em;\n",
       "             height:  80%;\n",
       "            background:  linear-gradient(90deg,#0d8ca6 72.5%, transparent 72.5%);\n",
       "        }    #T_c1cdb4d8_a688_11ea_9226_802bf9422f0arow6_col2 {\n",
       "            width:  10em;\n",
       "             height:  80%;\n",
       "            background:  linear-gradient(90deg,#50cce6 72.5%, transparent 72.5%);\n",
       "        }    #T_c1cdb4d8_a688_11ea_9226_802bf9422f0arow6_col3 {\n",
       "            width:  10em;\n",
       "             height:  80%;\n",
       "            background:  linear-gradient(90deg,#17990e 75.6%, transparent 75.6%);\n",
       "        }    #T_c1cdb4d8_a688_11ea_9226_802bf9422f0arow6_col4 {\n",
       "            width:  10em;\n",
       "             height:  80%;\n",
       "            background:  linear-gradient(90deg,#6ed667 78.0%, transparent 78.0%);\n",
       "        }    #T_c1cdb4d8_a688_11ea_9226_802bf9422f0arow6_col5 {\n",
       "            width:  10em;\n",
       "             height:  80%;\n",
       "            background:  linear-gradient(90deg,#9fd4b8 60.9%, transparent 60.9%);\n",
       "        }</style><table id=\"T_c1cdb4d8_a688_11ea_9226_802bf9422f0a\" ><thead>    <tr>        <th class=\"blank level0\" ></th>        <th class=\"col_heading level0 col0\" >Model</th>        <th class=\"col_heading level0 col1\" >Accuracy</th>        <th class=\"col_heading level0 col2\" >Recall</th>        <th class=\"col_heading level0 col3\" >Bal. Accuracy</th>        <th class=\"col_heading level0 col4\" >Specificity</th>        <th class=\"col_heading level0 col5\" >AUC</th>    </tr></thead><tbody>\n",
       "                <tr>\n",
       "                        <th id=\"T_c1cdb4d8_a688_11ea_9226_802bf9422f0alevel0_row0\" class=\"row_heading level0 row0\" >0</th>\n",
       "                        <td id=\"T_c1cdb4d8_a688_11ea_9226_802bf9422f0arow0_col0\" class=\"data row0 col0\" >DecisionTreeClassifier</td>\n",
       "                        <td id=\"T_c1cdb4d8_a688_11ea_9226_802bf9422f0arow0_col1\" class=\"data row0 col1\" >0.95</td>\n",
       "                        <td id=\"T_c1cdb4d8_a688_11ea_9226_802bf9422f0arow0_col2\" class=\"data row0 col2\" >0.95</td>\n",
       "                        <td id=\"T_c1cdb4d8_a688_11ea_9226_802bf9422f0arow0_col3\" class=\"data row0 col3\" >0.95</td>\n",
       "                        <td id=\"T_c1cdb4d8_a688_11ea_9226_802bf9422f0arow0_col4\" class=\"data row0 col4\" >0.95</td>\n",
       "                        <td id=\"T_c1cdb4d8_a688_11ea_9226_802bf9422f0arow0_col5\" class=\"data row0 col5\" >0.98</td>\n",
       "            </tr>\n",
       "            <tr>\n",
       "                        <th id=\"T_c1cdb4d8_a688_11ea_9226_802bf9422f0alevel0_row1\" class=\"row_heading level0 row1\" >1</th>\n",
       "                        <td id=\"T_c1cdb4d8_a688_11ea_9226_802bf9422f0arow1_col0\" class=\"data row1 col0\" >BaggingClassifier</td>\n",
       "                        <td id=\"T_c1cdb4d8_a688_11ea_9226_802bf9422f0arow1_col1\" class=\"data row1 col1\" >0.93</td>\n",
       "                        <td id=\"T_c1cdb4d8_a688_11ea_9226_802bf9422f0arow1_col2\" class=\"data row1 col2\" >0.93</td>\n",
       "                        <td id=\"T_c1cdb4d8_a688_11ea_9226_802bf9422f0arow1_col3\" class=\"data row1 col3\" >0.93</td>\n",
       "                        <td id=\"T_c1cdb4d8_a688_11ea_9226_802bf9422f0arow1_col4\" class=\"data row1 col4\" >0.93</td>\n",
       "                        <td id=\"T_c1cdb4d8_a688_11ea_9226_802bf9422f0arow1_col5\" class=\"data row1 col5\" >0.98</td>\n",
       "            </tr>\n",
       "            <tr>\n",
       "                        <th id=\"T_c1cdb4d8_a688_11ea_9226_802bf9422f0alevel0_row2\" class=\"row_heading level0 row2\" >2</th>\n",
       "                        <td id=\"T_c1cdb4d8_a688_11ea_9226_802bf9422f0arow2_col0\" class=\"data row2 col0\" >GaussianNB</td>\n",
       "                        <td id=\"T_c1cdb4d8_a688_11ea_9226_802bf9422f0arow2_col1\" class=\"data row2 col1\" >0.67</td>\n",
       "                        <td id=\"T_c1cdb4d8_a688_11ea_9226_802bf9422f0arow2_col2\" class=\"data row2 col2\" >0.67</td>\n",
       "                        <td id=\"T_c1cdb4d8_a688_11ea_9226_802bf9422f0arow2_col3\" class=\"data row2 col3\" >0.7</td>\n",
       "                        <td id=\"T_c1cdb4d8_a688_11ea_9226_802bf9422f0arow2_col4\" class=\"data row2 col4\" >0.73</td>\n",
       "                        <td id=\"T_c1cdb4d8_a688_11ea_9226_802bf9422f0arow2_col5\" class=\"data row2 col5\" >0.9</td>\n",
       "            </tr>\n",
       "            <tr>\n",
       "                        <th id=\"T_c1cdb4d8_a688_11ea_9226_802bf9422f0alevel0_row3\" class=\"row_heading level0 row3\" >3</th>\n",
       "                        <td id=\"T_c1cdb4d8_a688_11ea_9226_802bf9422f0arow3_col0\" class=\"data row3 col0\" >RandomForestClassifier</td>\n",
       "                        <td id=\"T_c1cdb4d8_a688_11ea_9226_802bf9422f0arow3_col1\" class=\"data row3 col1\" >0.94</td>\n",
       "                        <td id=\"T_c1cdb4d8_a688_11ea_9226_802bf9422f0arow3_col2\" class=\"data row3 col2\" >0.94</td>\n",
       "                        <td id=\"T_c1cdb4d8_a688_11ea_9226_802bf9422f0arow3_col3\" class=\"data row3 col3\" >0.94</td>\n",
       "                        <td id=\"T_c1cdb4d8_a688_11ea_9226_802bf9422f0arow3_col4\" class=\"data row3 col4\" >0.94</td>\n",
       "                        <td id=\"T_c1cdb4d8_a688_11ea_9226_802bf9422f0arow3_col5\" class=\"data row3 col5\" >0.98</td>\n",
       "            </tr>\n",
       "            <tr>\n",
       "                        <th id=\"T_c1cdb4d8_a688_11ea_9226_802bf9422f0alevel0_row4\" class=\"row_heading level0 row4\" >4</th>\n",
       "                        <td id=\"T_c1cdb4d8_a688_11ea_9226_802bf9422f0arow4_col0\" class=\"data row4 col0\" >LogisticRegression</td>\n",
       "                        <td id=\"T_c1cdb4d8_a688_11ea_9226_802bf9422f0arow4_col1\" class=\"data row4 col1\" >0.68</td>\n",
       "                        <td id=\"T_c1cdb4d8_a688_11ea_9226_802bf9422f0arow4_col2\" class=\"data row4 col2\" >0.68</td>\n",
       "                        <td id=\"T_c1cdb4d8_a688_11ea_9226_802bf9422f0arow4_col3\" class=\"data row4 col3\" >0.68</td>\n",
       "                        <td id=\"T_c1cdb4d8_a688_11ea_9226_802bf9422f0arow4_col4\" class=\"data row4 col4\" >0.68</td>\n",
       "                        <td id=\"T_c1cdb4d8_a688_11ea_9226_802bf9422f0arow4_col5\" class=\"data row4 col5\" >0.76</td>\n",
       "            </tr>\n",
       "            <tr>\n",
       "                        <th id=\"T_c1cdb4d8_a688_11ea_9226_802bf9422f0alevel0_row5\" class=\"row_heading level0 row5\" >5</th>\n",
       "                        <td id=\"T_c1cdb4d8_a688_11ea_9226_802bf9422f0arow5_col0\" class=\"data row5 col0\" >SupportVector Machine</td>\n",
       "                        <td id=\"T_c1cdb4d8_a688_11ea_9226_802bf9422f0arow5_col1\" class=\"data row5 col1\" >0.55</td>\n",
       "                        <td id=\"T_c1cdb4d8_a688_11ea_9226_802bf9422f0arow5_col2\" class=\"data row5 col2\" >0.55</td>\n",
       "                        <td id=\"T_c1cdb4d8_a688_11ea_9226_802bf9422f0arow5_col3\" class=\"data row5 col3\" >0.5</td>\n",
       "                        <td id=\"T_c1cdb4d8_a688_11ea_9226_802bf9422f0arow5_col4\" class=\"data row5 col4\" >0.45</td>\n",
       "                        <td id=\"T_c1cdb4d8_a688_11ea_9226_802bf9422f0arow5_col5\" class=\"data row5 col5\" >0.75</td>\n",
       "            </tr>\n",
       "            <tr>\n",
       "                        <th id=\"T_c1cdb4d8_a688_11ea_9226_802bf9422f0alevel0_row6\" class=\"row_heading level0 row6\" >6</th>\n",
       "                        <td id=\"T_c1cdb4d8_a688_11ea_9226_802bf9422f0arow6_col0\" class=\"data row6 col0\" >KNeighborsClassifier</td>\n",
       "                        <td id=\"T_c1cdb4d8_a688_11ea_9226_802bf9422f0arow6_col1\" class=\"data row6 col1\" >0.84</td>\n",
       "                        <td id=\"T_c1cdb4d8_a688_11ea_9226_802bf9422f0arow6_col2\" class=\"data row6 col2\" >0.84</td>\n",
       "                        <td id=\"T_c1cdb4d8_a688_11ea_9226_802bf9422f0arow6_col3\" class=\"data row6 col3\" >0.84</td>\n",
       "                        <td id=\"T_c1cdb4d8_a688_11ea_9226_802bf9422f0arow6_col4\" class=\"data row6 col4\" >0.84</td>\n",
       "                        <td id=\"T_c1cdb4d8_a688_11ea_9226_802bf9422f0arow6_col5\" class=\"data row6 col5\" >0.89</td>\n",
       "            </tr>\n",
       "    </tbody></table>"
      ],
      "text/plain": [
       "<pandas.io.formats.style.Styler at 0x180669f3c88>"
      ]
     },
     "execution_count": 42,
     "metadata": {},
     "output_type": "execute_result"
    }
   ],
   "source": [
    "performace_table = pd.DataFrame(m_accuracy)\n",
    "performace_table.columns = ['Model','Accuracy', 'Recall','Bal. Accuracy','Specificity', 'AUC']\n",
    "performace_table.style.bar(subset=[\"Accuracy\",], color='#0d8ca6')\\\n",
    "                 .bar(subset=[\"Recall\"], color='#50cce6')\\\n",
    "                 .bar(subset=[\"Bal. Accuracy\"], color='#17990e')\\\n",
    "                 .bar(subset=[\"Specificity\"], color='#6ed667')\\\n",
    "                 .bar(subset=[\"AUC\"], color='#9fd4b8')"
   ]
  },
  {
   "cell_type": "code",
   "execution_count": 43,
   "metadata": {
    "scrolled": true
   },
   "outputs": [
    {
     "data": {
      "text/html": [
       "<div>\n",
       "<style scoped>\n",
       "    .dataframe tbody tr th:only-of-type {\n",
       "        vertical-align: middle;\n",
       "    }\n",
       "\n",
       "    .dataframe tbody tr th {\n",
       "        vertical-align: top;\n",
       "    }\n",
       "\n",
       "    .dataframe thead th {\n",
       "        text-align: right;\n",
       "    }\n",
       "</style>\n",
       "<table border=\"1\" class=\"dataframe\">\n",
       "  <thead>\n",
       "    <tr style=\"text-align: right;\">\n",
       "      <th></th>\n",
       "      <th>Model</th>\n",
       "      <th>fpr</th>\n",
       "      <th>tpr</th>\n",
       "    </tr>\n",
       "  </thead>\n",
       "  <tbody>\n",
       "    <tr>\n",
       "      <td>0</td>\n",
       "      <td>DecisionTreeClassifier</td>\n",
       "      <td>[0.0, 0.0, 0.008403361344537815, 0.00840336134...</td>\n",
       "      <td>[0.0, 0.5342465753424658, 0.7671232876712328, ...</td>\n",
       "    </tr>\n",
       "    <tr>\n",
       "      <td>1</td>\n",
       "      <td>BaggingClassifier</td>\n",
       "      <td>[0.0, 0.0, 0.0, 0.008403361344537815, 0.008403...</td>\n",
       "      <td>[0.0, 0.21232876712328766, 0.2602739726027397,...</td>\n",
       "    </tr>\n",
       "    <tr>\n",
       "      <td>2</td>\n",
       "      <td>GaussianNB</td>\n",
       "      <td>[0.0, 0.0, 0.0, 0.01680672268907563, 0.0168067...</td>\n",
       "      <td>[0.0, 0.3835616438356164, 0.3972602739726027, ...</td>\n",
       "    </tr>\n",
       "    <tr>\n",
       "      <td>3</td>\n",
       "      <td>RandomForestClassifier</td>\n",
       "      <td>[0.0, 0.008403361344537815, 0.0084033613445378...</td>\n",
       "      <td>[0.0, 0.541095890410959, 0.7465753424657534, 0...</td>\n",
       "    </tr>\n",
       "    <tr>\n",
       "      <td>4</td>\n",
       "      <td>LogisticRegression</td>\n",
       "      <td>[0.0, 0.0, 0.0, 0.025210084033613446, 0.025210...</td>\n",
       "      <td>[0.0, 0.00684931506849315, 0.0136986301369863,...</td>\n",
       "    </tr>\n",
       "    <tr>\n",
       "      <td>5</td>\n",
       "      <td>SupportVector Machine</td>\n",
       "      <td>[0.0, 0.0, 0.008403361344537815, 0.00840336134...</td>\n",
       "      <td>[0.0, 0.00684931506849315, 0.00684931506849315...</td>\n",
       "    </tr>\n",
       "    <tr>\n",
       "      <td>6</td>\n",
       "      <td>KNeighborsClassifier</td>\n",
       "      <td>[0.0, 0.008403361344537815, 0.0588235294117647...</td>\n",
       "      <td>[0.0, 0.4246575342465753, 0.6095890410958904, ...</td>\n",
       "    </tr>\n",
       "  </tbody>\n",
       "</table>\n",
       "</div>"
      ],
      "text/plain": [
       "                    Model                                                fpr  \\\n",
       "0  DecisionTreeClassifier  [0.0, 0.0, 0.008403361344537815, 0.00840336134...   \n",
       "1       BaggingClassifier  [0.0, 0.0, 0.0, 0.008403361344537815, 0.008403...   \n",
       "2              GaussianNB  [0.0, 0.0, 0.0, 0.01680672268907563, 0.0168067...   \n",
       "3  RandomForestClassifier  [0.0, 0.008403361344537815, 0.0084033613445378...   \n",
       "4      LogisticRegression  [0.0, 0.0, 0.0, 0.025210084033613446, 0.025210...   \n",
       "5   SupportVector Machine  [0.0, 0.0, 0.008403361344537815, 0.00840336134...   \n",
       "6    KNeighborsClassifier  [0.0, 0.008403361344537815, 0.0588235294117647...   \n",
       "\n",
       "                                                 tpr  \n",
       "0  [0.0, 0.5342465753424658, 0.7671232876712328, ...  \n",
       "1  [0.0, 0.21232876712328766, 0.2602739726027397,...  \n",
       "2  [0.0, 0.3835616438356164, 0.3972602739726027, ...  \n",
       "3  [0.0, 0.541095890410959, 0.7465753424657534, 0...  \n",
       "4  [0.0, 0.00684931506849315, 0.0136986301369863,...  \n",
       "5  [0.0, 0.00684931506849315, 0.00684931506849315...  \n",
       "6  [0.0, 0.4246575342465753, 0.6095890410958904, ...  "
      ]
     },
     "execution_count": 43,
     "metadata": {},
     "output_type": "execute_result"
    }
   ],
   "source": [
    "roc_rates = pd.DataFrame(positive_rates)\n",
    "roc_rates.columns = ['Model','fpr', 'tpr']\n",
    "roc_rates"
   ]
  },
  {
   "cell_type": "code",
   "execution_count": 51,
   "metadata": {},
   "outputs": [
    {
     "data": {
      "image/png": "[encoded data removed]",
      "text/plain": [
       "<Figure size 720x504 with 1 Axes>"
      ]
     },
     "metadata": {},
     "output_type": "display_data"
    }
   ],
   "source": [
    "# generate a no skill prediction (majority class)\n",
    "ns_probs = [0 for _ in range(len(Y_test))]\n",
    "ns_auc = roc_auc_score(Y_test, ns_probs)\n",
    "ns_fpr, ns_tpr, _ = roc_curve(Y_test, ns_probs)\n",
    "\n",
    "# plot the roc curve for the model\n",
    "plt.figure(figsize=(10,7))\n",
    "plt.plot(ns_fpr, ns_tpr, linestyle='--', label='No Skill')\n",
    "plt.plot(roc_rates.iloc[0,1], roc_rates.iloc[0,2], label=roc_rates.iloc[0,0])\n",
    "plt.plot(roc_rates.iloc[1,1], roc_rates.iloc[1,2], label=roc_rates.iloc[1,0])\n",
    "plt.plot(roc_rates.iloc[2,1], roc_rates.iloc[2,2], label=roc_rates.iloc[2,0])\n",
    "plt.plot(roc_rates.iloc[3,1], roc_rates.iloc[3,2], label=roc_rates.iloc[3,0])\n",
    "plt.plot(roc_rates.iloc[4,1], roc_rates.iloc[4,2], label=roc_rates.iloc[4,0])\n",
    "plt.plot(roc_rates.iloc[5,1], roc_rates.iloc[5,2], label=roc_rates.iloc[5,0])\n",
    "plt.plot(roc_rates.iloc[6,1], roc_rates.iloc[6,2], label=roc_rates.iloc[6,0])\n",
    "\n",
    "# axis labels\n",
    "plt.xlabel('False Positive Rate')\n",
    "plt.ylabel('True Positive Rate')\n",
    "# show the legend\n",
    "plt.legend()\n",
    "# show the plot\n",
    "plt.show()"
   ]
  },
  {
   "cell_type": "markdown",
   "metadata": {},
   "source": [
    "Decision Tree Classifyer achieved the highest AUC and Accuracy."
   ]
  },
  {
   "cell_type": "code",
   "execution_count": null,
   "metadata": {},
   "outputs": [],
   "source": []
  }
 ],
 "metadata": {
  "kernelspec": {
   "display_name": "Python 3",
   "language": "python",
   "name": "python3"
  },
  "language_info": {
   "codemirror_mode": {
    "name": "ipython",
    "version": 3
   },
   "file_extension": ".py",
   "mimetype": "text/x-python",
   "name": "python",
   "nbconvert_exporter": "python",
   "pygments_lexer": "ipython3",
   "version": "3.7.4"
  }
 },
 "nbformat": 4,
 "nbformat_minor": 2
}
